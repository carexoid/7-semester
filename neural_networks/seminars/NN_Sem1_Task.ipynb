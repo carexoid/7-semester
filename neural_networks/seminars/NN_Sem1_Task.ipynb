{
  "nbformat": 4,
  "nbformat_minor": 0,
  "metadata": {
    "colab": {
      "name": "NN-Sem1-Task.ipynb",
      "provenance": [],
      "collapsed_sections": [],
      "include_colab_link": true
    },
    "kernelspec": {
      "name": "python3",
      "display_name": "Python 3"
    },
    "language_info": {
      "name": "python"
    }
  },
  "cells": [
    {
      "cell_type": "markdown",
      "metadata": {
        "id": "view-in-github",
        "colab_type": "text"
      },
      "source": [
        "<a href=\"https://colab.research.google.com/github/carexoid/7-semester/blob/master/neural_networks/seminars/NN_Sem1_Task.ipynb\" target=\"_parent\"><img src=\"https://colab.research.google.com/assets/colab-badge.svg\" alt=\"Open In Colab\"/></a>"
      ]
    },
    {
      "cell_type": "code",
      "metadata": {
        "id": "-JdsgjbWaz5h"
      },
      "source": [
        "import numpy as np\n",
        "import pandas as pd"
      ],
      "execution_count": null,
      "outputs": []
    },
    {
      "cell_type": "code",
      "metadata": {
        "id": "Fwvg5TS8bctk"
      },
      "source": [
        "np.set_printoptions(precision=2)"
      ],
      "execution_count": null,
      "outputs": []
    },
    {
      "cell_type": "markdown",
      "metadata": {
        "id": "SxIXEe6_bf43"
      },
      "source": [
        "**Зчитуємо дані з файлу**"
      ]
    },
    {
      "cell_type": "code",
      "metadata": {
        "colab": {
          "base_uri": "https://localhost:8080/"
        },
        "id": "VuDB_8hqJt-O",
        "outputId": "14edbe1a-9d31-4746-96d1-09a6c1c0a535"
      },
      "source": [
        "from google.colab import drive\n",
        "drive.mount('/content/drive')"
      ],
      "execution_count": 5,
      "outputs": [
        {
          "output_type": "stream",
          "name": "stdout",
          "text": [
            "Mounted at /content/drive\n"
          ]
        }
      ]
    },
    {
      "cell_type": "code",
      "metadata": {
        "id": "B6s-upw-biIP"
      },
      "source": [
        "data = pd.read_csv('/content/sample_data/adult_data.csv', sep=',')"
      ],
      "execution_count": 10,
      "outputs": []
    },
    {
      "cell_type": "markdown",
      "metadata": {
        "id": "yll6KTZEhHA-"
      },
      "source": [
        "**1. Скільки чоловіків та жінок (ознака sex) представлено в цьому наборі даних?**"
      ]
    },
    {
      "cell_type": "code",
      "metadata": {
        "id": "-KGpXkOehRJo",
        "colab": {
          "base_uri": "https://localhost:8080/"
        },
        "outputId": "e24f65d9-e91d-4761-eb7e-983fb88530a9"
      },
      "source": [
        "counts = len(data[data['sex'] == 'Male']), len(data[data['sex'] == 'Female'])\n",
        "print('Males: ', counts[0])\n",
        "print('Females: ', counts[1])"
      ],
      "execution_count": 11,
      "outputs": [
        {
          "output_type": "stream",
          "name": "stdout",
          "text": [
            "Males:  6449\n",
            "Females:  3175\n"
          ]
        }
      ]
    },
    {
      "cell_type": "markdown",
      "metadata": {
        "id": "p5_PYXNijCs1"
      },
      "source": [
        "**2. Який середній вік жінок (ознака age)?**"
      ]
    },
    {
      "cell_type": "code",
      "metadata": {
        "colab": {
          "base_uri": "https://localhost:8080/"
        },
        "id": "Mb8EsEv9jIoB",
        "outputId": "a176f533-4a0f-4511-e5cf-7b60193e50df"
      },
      "source": [
        "data[data['sex'] == 'Female']['age'].mean()"
      ],
      "execution_count": 12,
      "outputs": [
        {
          "output_type": "execute_result",
          "data": {
            "text/plain": [
              "36.891338582677164"
            ]
          },
          "metadata": {},
          "execution_count": 12
        }
      ]
    },
    {
      "cell_type": "markdown",
      "metadata": {
        "id": "wfKWl-vwju_l"
      },
      "source": [
        "**3. Яка частка громадян Німеччини (ознака native-country)?**"
      ]
    },
    {
      "cell_type": "code",
      "metadata": {
        "colab": {
          "base_uri": "https://localhost:8080/"
        },
        "id": "pi_E0tBYjwju",
        "outputId": "ad439ae6-e3c5-4ad8-faf0-942f8def7c97"
      },
      "source": [
        "len(data[data['native-country'] == 'Germany']) / len(data)"
      ],
      "execution_count": 13,
      "outputs": [
        {
          "output_type": "execute_result",
          "data": {
            "text/plain": [
              "0.004364089775561097"
            ]
          },
          "metadata": {},
          "execution_count": 13
        }
      ]
    },
    {
      "cell_type": "markdown",
      "metadata": {
        "id": "pPwbLbehC9RZ"
      },
      "source": [
        "**4. Які середні значення та середньоквадратичні відхилення віку тих, хто отримує більше 50К в рік (ознака salary) та менше або рівно 50К в рік?**"
      ]
    },
    {
      "cell_type": "code",
      "metadata": {
        "colab": {
          "base_uri": "https://localhost:8080/"
        },
        "id": "Ny1SZsfrEmNt",
        "outputId": "c672e3fe-b858-4f66-ddaa-593854923915"
      },
      "source": [
        "frame = data[data['salary'] == '>50K']['age']\n",
        "print('              Mean            Standard Deviation')\n",
        "print('>50K: ', frame.mean(), ' ', frame.std())\n",
        "frame = data[data['salary'] == '<=50K']['age']\n",
        "print('<=50K: ', frame.mean(), ' ', frame.std())"
      ],
      "execution_count": 14,
      "outputs": [
        {
          "output_type": "stream",
          "name": "stdout",
          "text": [
            "              Mean            Standard Deviation\n",
            ">50K:  44.02487996508075   10.379892845152668\n",
            "<=50K:  36.68457657166235   13.987326825766383\n"
          ]
        }
      ]
    },
    {
      "cell_type": "markdown",
      "metadata": {
        "id": "-z-pquaGF4Xx"
      },
      "source": [
        "**5. Чи правда, що люди, які отримують більше 50К, мають як мінімум вищу освіту (ознака education: Bachelors, Prof-school, Assoc-acdm, Assoc-voc, Masters, Doctorate)?**"
      ]
    },
    {
      "cell_type": "code",
      "metadata": {
        "colab": {
          "base_uri": "https://localhost:8080/"
        },
        "id": "_Hpm9y2ZF-58",
        "outputId": "88b65e1e-98d2-4abf-8029-1056a3507b04"
      },
      "source": [
        "data[data['salary'] == '>50K']['education'].apply(\n",
        "    lambda x: x in ['Bachelors', 'Prof-school', 'Assoc-acdm', 'Assoc-voc', \n",
        "                    'Masters', 'Doctorate']).all()"
      ],
      "execution_count": 15,
      "outputs": [
        {
          "output_type": "execute_result",
          "data": {
            "text/plain": [
              "False"
            ]
          },
          "metadata": {},
          "execution_count": 15
        }
      ]
    },
    {
      "cell_type": "markdown",
      "metadata": {
        "id": "OtNLVCU0RuTw"
      },
      "source": [
        "**6. Виведіть статистику віку для кожної раси (ознака race) і статі. Використовуйте groupby та describe. Знайдіть максимальний вік чоловіків раси Amer-Indian-Eskimo.**"
      ]
    },
    {
      "cell_type": "code",
      "metadata": {
        "colab": {
          "base_uri": "https://localhost:8080/",
          "height": 269
        },
        "id": "e30vVrUIR4Zw",
        "outputId": "bc003b9a-b7ba-4813-ebae-8882a2fb935b"
      },
      "source": [
        "data.groupby('race')[['age', 'race']].describe()"
      ],
      "execution_count": 16,
      "outputs": [
        {
          "output_type": "execute_result",
          "data": {
            "text/html": [
              "<div>\n",
              "<style scoped>\n",
              "    .dataframe tbody tr th:only-of-type {\n",
              "        vertical-align: middle;\n",
              "    }\n",
              "\n",
              "    .dataframe tbody tr th {\n",
              "        vertical-align: top;\n",
              "    }\n",
              "\n",
              "    .dataframe thead tr th {\n",
              "        text-align: left;\n",
              "    }\n",
              "\n",
              "    .dataframe thead tr:last-of-type th {\n",
              "        text-align: right;\n",
              "    }\n",
              "</style>\n",
              "<table border=\"1\" class=\"dataframe\">\n",
              "  <thead>\n",
              "    <tr>\n",
              "      <th></th>\n",
              "      <th colspan=\"8\" halign=\"left\">age</th>\n",
              "    </tr>\n",
              "    <tr>\n",
              "      <th></th>\n",
              "      <th>count</th>\n",
              "      <th>mean</th>\n",
              "      <th>std</th>\n",
              "      <th>min</th>\n",
              "      <th>25%</th>\n",
              "      <th>50%</th>\n",
              "      <th>75%</th>\n",
              "      <th>max</th>\n",
              "    </tr>\n",
              "    <tr>\n",
              "      <th>race</th>\n",
              "      <th></th>\n",
              "      <th></th>\n",
              "      <th></th>\n",
              "      <th></th>\n",
              "      <th></th>\n",
              "      <th></th>\n",
              "      <th></th>\n",
              "      <th></th>\n",
              "    </tr>\n",
              "  </thead>\n",
              "  <tbody>\n",
              "    <tr>\n",
              "      <th>Amer-Indian-Eskimo</th>\n",
              "      <td>93.0</td>\n",
              "      <td>36.591398</td>\n",
              "      <td>12.111113</td>\n",
              "      <td>17.0</td>\n",
              "      <td>28.00</td>\n",
              "      <td>35.0</td>\n",
              "      <td>44.0</td>\n",
              "      <td>67.0</td>\n",
              "    </tr>\n",
              "    <tr>\n",
              "      <th>Asian-Pac-Islander</th>\n",
              "      <td>293.0</td>\n",
              "      <td>37.088737</td>\n",
              "      <td>12.905039</td>\n",
              "      <td>17.0</td>\n",
              "      <td>27.00</td>\n",
              "      <td>36.0</td>\n",
              "      <td>45.0</td>\n",
              "      <td>90.0</td>\n",
              "    </tr>\n",
              "    <tr>\n",
              "      <th>Black</th>\n",
              "      <td>921.0</td>\n",
              "      <td>38.154180</td>\n",
              "      <td>13.020223</td>\n",
              "      <td>17.0</td>\n",
              "      <td>28.00</td>\n",
              "      <td>36.0</td>\n",
              "      <td>47.0</td>\n",
              "      <td>90.0</td>\n",
              "    </tr>\n",
              "    <tr>\n",
              "      <th>Other</th>\n",
              "      <td>78.0</td>\n",
              "      <td>32.858974</td>\n",
              "      <td>10.709535</td>\n",
              "      <td>17.0</td>\n",
              "      <td>25.25</td>\n",
              "      <td>30.0</td>\n",
              "      <td>41.0</td>\n",
              "      <td>65.0</td>\n",
              "    </tr>\n",
              "    <tr>\n",
              "      <th>White</th>\n",
              "      <td>8239.0</td>\n",
              "      <td>38.584294</td>\n",
              "      <td>13.693872</td>\n",
              "      <td>17.0</td>\n",
              "      <td>28.00</td>\n",
              "      <td>37.0</td>\n",
              "      <td>48.0</td>\n",
              "      <td>90.0</td>\n",
              "    </tr>\n",
              "  </tbody>\n",
              "</table>\n",
              "</div>"
            ],
            "text/plain": [
              "                       age                                                     \n",
              "                     count       mean        std   min    25%   50%   75%   max\n",
              "race                                                                           \n",
              "Amer-Indian-Eskimo    93.0  36.591398  12.111113  17.0  28.00  35.0  44.0  67.0\n",
              "Asian-Pac-Islander   293.0  37.088737  12.905039  17.0  27.00  36.0  45.0  90.0\n",
              "Black                921.0  38.154180  13.020223  17.0  28.00  36.0  47.0  90.0\n",
              "Other                 78.0  32.858974  10.709535  17.0  25.25  30.0  41.0  65.0\n",
              "White               8239.0  38.584294  13.693872  17.0  28.00  37.0  48.0  90.0"
            ]
          },
          "metadata": {},
          "execution_count": 16
        }
      ]
    },
    {
      "cell_type": "code",
      "metadata": {
        "colab": {
          "base_uri": "https://localhost:8080/",
          "height": 175
        },
        "id": "a9d63jCrWEdS",
        "outputId": "0319b5cf-ccbc-41d2-cea8-f9a9b52acbea"
      },
      "source": [
        "data.groupby('sex')[['age', 'sex']].describe()"
      ],
      "execution_count": 17,
      "outputs": [
        {
          "output_type": "execute_result",
          "data": {
            "text/html": [
              "<div>\n",
              "<style scoped>\n",
              "    .dataframe tbody tr th:only-of-type {\n",
              "        vertical-align: middle;\n",
              "    }\n",
              "\n",
              "    .dataframe tbody tr th {\n",
              "        vertical-align: top;\n",
              "    }\n",
              "\n",
              "    .dataframe thead tr th {\n",
              "        text-align: left;\n",
              "    }\n",
              "\n",
              "    .dataframe thead tr:last-of-type th {\n",
              "        text-align: right;\n",
              "    }\n",
              "</style>\n",
              "<table border=\"1\" class=\"dataframe\">\n",
              "  <thead>\n",
              "    <tr>\n",
              "      <th></th>\n",
              "      <th colspan=\"8\" halign=\"left\">age</th>\n",
              "    </tr>\n",
              "    <tr>\n",
              "      <th></th>\n",
              "      <th>count</th>\n",
              "      <th>mean</th>\n",
              "      <th>std</th>\n",
              "      <th>min</th>\n",
              "      <th>25%</th>\n",
              "      <th>50%</th>\n",
              "      <th>75%</th>\n",
              "      <th>max</th>\n",
              "    </tr>\n",
              "    <tr>\n",
              "      <th>sex</th>\n",
              "      <th></th>\n",
              "      <th></th>\n",
              "      <th></th>\n",
              "      <th></th>\n",
              "      <th></th>\n",
              "      <th></th>\n",
              "      <th></th>\n",
              "      <th></th>\n",
              "    </tr>\n",
              "  </thead>\n",
              "  <tbody>\n",
              "    <tr>\n",
              "      <th>Female</th>\n",
              "      <td>3175.0</td>\n",
              "      <td>36.891339</td>\n",
              "      <td>13.940683</td>\n",
              "      <td>17.0</td>\n",
              "      <td>25.0</td>\n",
              "      <td>35.0</td>\n",
              "      <td>46.0</td>\n",
              "      <td>90.0</td>\n",
              "    </tr>\n",
              "    <tr>\n",
              "      <th>Male</th>\n",
              "      <td>6449.0</td>\n",
              "      <td>39.190417</td>\n",
              "      <td>13.338305</td>\n",
              "      <td>17.0</td>\n",
              "      <td>29.0</td>\n",
              "      <td>38.0</td>\n",
              "      <td>48.0</td>\n",
              "      <td>90.0</td>\n",
              "    </tr>\n",
              "  </tbody>\n",
              "</table>\n",
              "</div>"
            ],
            "text/plain": [
              "           age                                                    \n",
              "         count       mean        std   min   25%   50%   75%   max\n",
              "sex                                                               \n",
              "Female  3175.0  36.891339  13.940683  17.0  25.0  35.0  46.0  90.0\n",
              "Male    6449.0  39.190417  13.338305  17.0  29.0  38.0  48.0  90.0"
            ]
          },
          "metadata": {},
          "execution_count": 17
        }
      ]
    },
    {
      "cell_type": "code",
      "metadata": {
        "colab": {
          "base_uri": "https://localhost:8080/"
        },
        "id": "sq5ERUEZWef-",
        "outputId": "99954325-37a8-4d80-c0a7-69758117926b"
      },
      "source": [
        "data[data['race'] == 'Amer-Indian-Eskimo']['age'].max()"
      ],
      "execution_count": 18,
      "outputs": [
        {
          "output_type": "execute_result",
          "data": {
            "text/plain": [
              "67"
            ]
          },
          "metadata": {},
          "execution_count": 18
        }
      ]
    },
    {
      "cell_type": "markdown",
      "metadata": {
        "id": "mBr9WgjRWxi7"
      },
      "source": [
        "**7. Серед кого більша частка з високою зарплатнею (>50K): серед одружених або неодружених чоловіків (ознака marital-status)? Одруженими вважаємо тих, у кого marital-status починається з Married (Married-civ-spouse, Married-spouse-absent, Married-AF-spouse), інших вважаємо неодруженими.**"
      ]
    },
    {
      "cell_type": "code",
      "metadata": {
        "colab": {
          "base_uri": "https://localhost:8080/"
        },
        "id": "Sq-qObNoW6Qy",
        "outputId": "f561fc8f-13e5-4f1f-d998-58e62fae40ec"
      },
      "source": [
        "rich = data[(data['salary'] == '>50K') & (data['sex'] == 'Male')]\n",
        "married = len(rich[rich['marital-status']\n",
        "                   .apply(lambda x: x.startswith('Married'))])\n",
        "bachelors = len(rich) - married\n",
        "\n",
        "print('Married: ', married)\n",
        "print('Bachelors: ', bachelors)\n",
        "\n",
        "if married > bachelors:\n",
        "  print('Married prevail')\n",
        "elif married < bachelors:\n",
        "  print('Bachelors prevail')\n",
        "else:\n",
        "  print('Nobody prevails')"
      ],
      "execution_count": 19,
      "outputs": [
        {
          "output_type": "stream",
          "name": "stdout",
          "text": [
            "Married:  1735\n",
            "Bachelors:  196\n",
            "Married prevail\n"
          ]
        }
      ]
    },
    {
      "cell_type": "markdown",
      "metadata": {
        "id": "2BK6NNGeiVuJ"
      },
      "source": [
        "**8. Яку максимальну кількість годин людина працює на тиждень (ознака hours-per-week)? Скільки людей працюють таку кількість годин і який серед них відсоток заробляють багато?**"
      ]
    },
    {
      "cell_type": "code",
      "metadata": {
        "colab": {
          "base_uri": "https://localhost:8080/"
        },
        "id": "MXgm72-pie_G",
        "outputId": "43a5185d-d9db-4f1e-d38e-33b2397b318e"
      },
      "source": [
        "max_hours = data['hours-per-week'].max()\n",
        "print('Max hours per week: ', max_hours)\n",
        "slaves = data[data['hours-per-week'] == max_hours]\n",
        "print('People working max hours: ', len(slaves))\n",
        "rich_slaves = slaves[slaves['salary'] == '>50K']\n",
        "print('Percent of making >50K: ', len(rich_slaves) / len(slaves))"
      ],
      "execution_count": 20,
      "outputs": [
        {
          "output_type": "stream",
          "name": "stdout",
          "text": [
            "Max hours per week:  99\n",
            "People working max hours:  15\n",
            "Percent of making >50K:  0.4666666666666667\n"
          ]
        }
      ]
    },
    {
      "cell_type": "markdown",
      "metadata": {
        "id": "pV-WJtbfj3zE"
      },
      "source": [
        "**9. Порахуйте середній час роботи (ознака hours-per-week) тих, хто заробляє мало і багато для кожної країни (ознака native-country).**"
      ]
    },
    {
      "cell_type": "code",
      "metadata": {
        "colab": {
          "base_uri": "https://localhost:8080/"
        },
        "id": "pW7QpfNzj-fA",
        "outputId": "debbb373-748a-449b-94d4-11057f485d10"
      },
      "source": [
        "for country, sub_df in data.groupby('native-country'):\n",
        "  print(country)\n",
        "  series = sub_df.groupby('salary')['hours-per-week'].agg(np.mean)\n",
        "  frame = pd.DataFrame({'salary': series.index, \n",
        "                        'mean hours per week': series.values})\n",
        "  print(frame.to_string(index=False) + '\\n')"
      ],
      "execution_count": 21,
      "outputs": [
        {
          "output_type": "stream",
          "name": "stdout",
          "text": [
            "?\n",
            "salary  mean hours per week\n",
            " <=50K            39.146341\n",
            "  >50K            45.980392\n",
            "\n",
            "Cambodia\n",
            "salary  mean hours per week\n",
            " <=50K                 40.5\n",
            "  >50K                 40.0\n",
            "\n",
            "Canada\n",
            "salary  mean hours per week\n",
            " <=50K            37.392857\n",
            "  >50K            47.294118\n",
            "\n",
            "China\n",
            "salary  mean hours per week\n",
            " <=50K            35.434783\n",
            "  >50K            39.400000\n",
            "\n",
            "Columbia\n",
            "salary  mean hours per week\n",
            " <=50K               41.875\n",
            "  >50K               50.000\n",
            "\n",
            "Cuba\n",
            "salary  mean hours per week\n",
            " <=50K                38.96\n",
            "  >50K                33.50\n",
            "\n",
            "Dominican-Republic\n",
            "salary  mean hours per week\n",
            " <=50K            43.842105\n",
            "  >50K            47.000000\n",
            "\n",
            "Ecuador\n",
            "salary  mean hours per week\n",
            " <=50K                   34\n",
            "\n",
            "El-Salvador\n",
            "salary  mean hours per week\n",
            " <=50K            35.125000\n",
            "  >50K            48.333333\n",
            "\n",
            "England\n",
            "salary  mean hours per week\n",
            " <=50K            41.052632\n",
            "  >50K            39.428571\n",
            "\n",
            "France\n",
            "salary  mean hours per week\n",
            " <=50K            40.666667\n",
            "  >50K            50.000000\n",
            "\n",
            "Germany\n",
            "salary  mean hours per week\n",
            " <=50K            39.500000\n",
            "  >50K            44.583333\n",
            "\n",
            "Greece\n",
            "salary  mean hours per week\n",
            " <=50K            49.230769\n",
            "  >50K            48.750000\n",
            "\n",
            "Guatemala\n",
            "salary  mean hours per week\n",
            " <=50K            38.052632\n",
            "  >50K            40.000000\n",
            "\n",
            "Haiti\n",
            "salary  mean hours per week\n",
            " <=50K            33.230769\n",
            "\n",
            "Honduras\n",
            "salary  mean hours per week\n",
            " <=50K                   33\n",
            "  >50K                   60\n",
            "\n",
            "Hong\n",
            "salary  mean hours per week\n",
            " <=50K                   40\n",
            "\n",
            "Hungary\n",
            "salary  mean hours per week\n",
            " <=50K                   30\n",
            "\n",
            "India\n",
            "salary  mean hours per week\n",
            " <=50K            38.166667\n",
            "  >50K            45.333333\n",
            "\n",
            "Iran\n",
            "salary  mean hours per week\n",
            " <=50K            42.636364\n",
            "  >50K            46.666667\n",
            "\n",
            "Ireland\n",
            "salary  mean hours per week\n",
            " <=50K                 35.2\n",
            "  >50K                 60.0\n",
            "\n",
            "Italy\n",
            "salary  mean hours per week\n",
            " <=50K            43.500000\n",
            "  >50K            42.555556\n",
            "\n",
            "Jamaica\n",
            "salary  mean hours per week\n",
            " <=50K            39.608696\n",
            "  >50K            43.000000\n",
            "\n",
            "Japan\n",
            "salary  mean hours per week\n",
            " <=50K            41.857143\n",
            "  >50K            41.666667\n",
            "\n",
            "Laos\n",
            "salary  mean hours per week\n",
            " <=50K                   40\n",
            "\n",
            "Mexico\n",
            "salary  mean hours per week\n",
            " <=50K            39.650538\n",
            "  >50K            49.166667\n",
            "\n",
            "Nicaragua\n",
            "salary  mean hours per week\n",
            " <=50K                 33.9\n",
            "\n",
            "Outlying-US(Guam-USVI-etc)\n",
            "salary  mean hours per week\n",
            " <=50K                43.75\n",
            "\n",
            "Peru\n",
            "salary  mean hours per week\n",
            " <=50K                 34.8\n",
            "  >50K                 40.0\n",
            "\n",
            "Philippines\n",
            "salary  mean hours per week\n",
            " <=50K            40.600000\n",
            "  >50K            42.769231\n",
            "\n",
            "Poland\n",
            "salary  mean hours per week\n",
            " <=50K            40.684211\n",
            "  >50K            30.000000\n",
            "\n",
            "Portugal\n",
            "salary  mean hours per week\n",
            " <=50K                 39.5\n",
            "  >50K                 38.0\n",
            "\n",
            "Puerto-Rico\n",
            "salary  mean hours per week\n",
            " <=50K            39.896552\n",
            "  >50K            45.000000\n",
            "\n",
            "Scotland\n",
            "salary  mean hours per week\n",
            " <=50K            33.333333\n",
            "\n",
            "South\n",
            "salary  mean hours per week\n",
            " <=50K            43.913043\n",
            "  >50K            55.000000\n",
            "\n",
            "Taiwan\n",
            "salary  mean hours per week\n",
            " <=50K               46.875\n",
            "  >50K               48.625\n",
            "\n",
            "Thailand\n",
            "salary  mean hours per week\n",
            " <=50K                 55.2\n",
            "  >50K                 62.5\n",
            "\n",
            "Trinadad&Tobago\n",
            "salary  mean hours per week\n",
            " <=50K            34.833333\n",
            "\n",
            "United-States\n",
            "salary  mean hours per week\n",
            " <=50K            38.900291\n",
            "  >50K            45.527499\n",
            "\n",
            "Vietnam\n",
            "salary  mean hours per week\n",
            " <=50K            38.736842\n",
            "  >50K            40.000000\n",
            "\n",
            "Yugoslavia\n",
            "salary  mean hours per week\n",
            " <=50K            43.333333\n",
            "  >50K            40.000000\n",
            "\n"
          ]
        }
      ]
    },
    {
      "cell_type": "markdown",
      "metadata": {
        "id": "mhRGhR_El-dl"
      },
      "source": [
        "For some data samples the native country is unknown (\"?\"). For them statistics is provided too."
      ]
    }
  ]
}